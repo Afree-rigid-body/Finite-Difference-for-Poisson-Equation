{
 "cells": [
  {
   "cell_type": "code",
   "execution_count": 3,
   "metadata": {},
   "outputs": [
    {
     "name": "stdout",
     "output_type": "stream",
     "text": [
      "无法读取帧 100\n",
      "无法读取帧 200\n",
      "无法读取帧 500\n"
     ]
    }
   ],
   "source": [
    "import cv2\n",
    "\n",
    "video_path = \"C:/Users/沈恒祥/Desktop/新建文件夹/2-30.avi\"\n",
    "frame_numbers = [100, 200, 500]  # 你要提取的帧数\n",
    "cap = cv2.VideoCapture(video_path)\n",
    "\n",
    "for frame_number in frame_numbers:\n",
    "    cap.set(cv2.CAP_PROP_POS_FRAMES, frame_number)\n",
    "    ret, frame = cap.read()\n",
    "    \n",
    "    if ret:\n",
    "        output_path = f\"frame_{frame_number}.png\"\n",
    "        cv2.imwrite(output_path, frame)\n",
    "        print(f\"帧 {frame_number} 已保存为 {output_path}\")\n",
    "    else:\n",
    "        print(f\"无法读取帧 {frame_number}\")\n",
    "\n",
    "cap.release()\n",
    "cv2.destroyAllWindows()\n"
   ]
  },
  {
   "cell_type": "code",
   "execution_count": 5,
   "metadata": {},
   "outputs": [
    {
     "name": "stdout",
     "output_type": "stream",
     "text": [
      "帧 500 已保存为 frames\\frame_500.png\n"
     ]
    }
   ],
   "source": [
    "import cv2\n",
    "import os\n",
    "video_path = \"C:/Users/沈恒祥/Desktop/2-30.avi\"\n",
    "output_path = \"C:/Users/沈恒祥/Desktop/2-30.png\"\n",
    "frame_number = 500  # 目标帧\n",
    "\n",
    "import os\n",
    "import cv2\n",
    "\n",
    "video_path = \"C:/Users/沈恒祥/Desktop/2-30.avi\"\n",
    "frame_number = 500\n",
    "\n",
    "cap = cv2.VideoCapture(video_path)\n",
    "cap.set(cv2.CAP_PROP_POS_FRAMES, frame_number)\n",
    "ret, frame = cap.read()\n",
    "\n",
    "if ret:\n",
    "    output_dir = \"frames\"  # 当前工作目录下的 frames 文件夹\n",
    "    if not os.path.exists(output_dir):\n",
    "        os.makedirs(output_dir)  # 如果文件夹不存在，创建它\n",
    "\n",
    "    output_path = os.path.join(output_dir, f\"frame_{frame_number}.png\")\n",
    "    cv2.imwrite(output_path, frame)\n",
    "    print(f\"帧 {frame_number} 已保存为 {output_path}\")\n",
    "else:\n",
    "    print(\"无法读取该帧\")\n",
    "\n",
    "cap.release()\n",
    "cv2.destroyAllWindows()\n"
   ]
  }
 ],
 "metadata": {
  "kernelspec": {
   "display_name": "base",
   "language": "python",
   "name": "python3"
  },
  "language_info": {
   "codemirror_mode": {
    "name": "ipython",
    "version": 3
   },
   "file_extension": ".py",
   "mimetype": "text/x-python",
   "name": "python",
   "nbconvert_exporter": "python",
   "pygments_lexer": "ipython3",
   "version": "3.11.5"
  }
 },
 "nbformat": 4,
 "nbformat_minor": 2
}
